{
 "cells": [
  {
   "cell_type": "code",
   "execution_count": 4,
   "id": "6392ab25-f6c5-46e4-aa30-46a32be5fc42",
   "metadata": {},
   "outputs": [
    {
     "name": "stdout",
     "output_type": "stream",
     "text": [
      " Welcome to the Enhanced Quiz Game!\n",
      "Choose a Category:\n",
      "1. General Knowledge\n",
      "2. Science\n"
     ]
    },
    {
     "name": "stdin",
     "output_type": "stream",
     "text": [
      "Enter category number:  1\n"
     ]
    },
    {
     "name": "stdout",
     "output_type": "stream",
     "text": [
      "\n",
      " You have 10 seconds to answer each question!\n",
      "\n",
      "Q1: What is the capital of South Korea ?\n",
      "A. Tokyo\n",
      "B. Osaka\n",
      "C. Seoul\n",
      "D. Kyoto\n"
     ]
    },
    {
     "name": "stdin",
     "output_type": "stream",
     "text": [
      "Your answer (A/B/C/D):  c\n"
     ]
    },
    {
     "name": "stdout",
     "output_type": "stream",
     "text": [
      "✅ Correct!\n",
      "\n",
      "Q2: How many members in BTS ?\n",
      "A. 4\n",
      "B. 7\n",
      "C. 11\n",
      "D. 9\n"
     ]
    },
    {
     "name": "stdin",
     "output_type": "stream",
     "text": [
      "Your answer (A/B/C/D):  d\n"
     ]
    },
    {
     "name": "stdout",
     "output_type": "stream",
     "text": [
      "❌ Wrong! Correct answer: B\n",
      "\n",
      "Q3: Who conducted Operation Sindhoor ?\n",
      "A. India\n",
      "B. USA\n",
      "C.Russia\n",
      "D.Pakistan\n"
     ]
    },
    {
     "name": "stdin",
     "output_type": "stream",
     "text": [
      "Your answer (A/B/C/D):  a\n"
     ]
    },
    {
     "name": "stdout",
     "output_type": "stream",
     "text": [
      "✅ Correct!\n",
      "\n",
      "\n",
      " You completed the quiz on General Knowledge!\n",
      "Your Score: 2/3\n",
      "\n",
      " Review:\n",
      "Q: What is the capital of South Korea ?\n",
      "Your Answer: C | Correct: C\n",
      "✔️ Correct\n",
      "\n",
      "Q: How many members in BTS ?\n",
      "Your Answer: D | Correct: B\n",
      "❌ Incorrect\n",
      "\n",
      "Q: Who conducted Operation Sindhoor ?\n",
      "Your Answer: A | Correct: A\n",
      "✔️ Correct\n",
      "\n"
     ]
    }
   ],
   "source": [
    "quiz_data = {\n",
    "    \"General Knowledge\": [\n",
    "        {\n",
    "            \"question\": \"What is the capital of South Korea ?\",\n",
    "            \"options\": [\"A. Tokyo\", \"B. Osaka\", \"C. Seoul\", \"D. Kyoto\"],\n",
    "            \"answer\": \"C\"\n",
    "        },\n",
    "        {\n",
    "            \"question\": \"How many members in BTS ?\",\n",
    "            \"options\": [\"A. 4\", \"B. 7\", \"C. 11\", \"D. 9\"],\n",
    "            \"answer\": \"B\"\n",
    "        },\n",
    "        {\n",
    "             \"question\": \"Who conducted Operation Sindhoor ?\",\n",
    "              \"options\":[\"A. India\", \"B. USA\", \"C.Russia\", \"D.Pakistan\"],\n",
    "              \"answer\": \"A\"\n",
    "        }\n",
    "    ],\n",
    "    \"Science\": [\n",
    "        {\n",
    "            \"question\": \"What gas do plants absorb?\",\n",
    "            \"options\": [\"A. Oxygen\", \"B. Nitrogen\", \"C. Carbon Dioxide\", \"D. Hydrogen\"],\n",
    "            \"answer\": \"C\"\n",
    "        },\n",
    "        {\n",
    "            \"question\": \"How many bones are in the adult human body?\",\n",
    "            \"options\": [\"A. 206\", \"B. 201\", \"C. 210\", \"D. 205\"],\n",
    "            \"answer\": \"A\"\n",
    "        },\n",
    "        {\n",
    "            \"question\": \"Who is known as father of science ?\",\n",
    "            \"options\": [\"A.Newton\", \"B.Einstein\", \"C.Galileo\", \"D.Aristotle\"],\n",
    "            \"answer\": \"C\"\n",
    "        }\n",
    "    ]\n",
    "}\n",
    "\n",
    "def run_quiz(category_questions):\n",
    "    score = 0\n",
    "    user_answers = []\n",
    "\n",
    "    print(\"\\n You have 10 seconds to answer each question!\\n\")\n",
    "\n",
    "    for idx, q in enumerate(category_questions, 1):\n",
    "        print(f\"Q{idx}: {q['question']}\")\n",
    "        for opt in q[\"options\"]:\n",
    "            print(opt)\n",
    "\n",
    "        start = time.time()\n",
    "        user_input = input(\"Your answer (A/B/C/D): \").upper()\n",
    "        end = time.time()\n",
    "\n",
    "        if end - start > 10:\n",
    "            print(\"⏰ Time's up! No answer recorded.\")\n",
    "            user_input = \"No Answer\"\n",
    "        else:\n",
    "            if user_input == q[\"answer\"]:\n",
    "                print(\"✅ Correct!\\n\")\n",
    "                score += 1\n",
    "            else:\n",
    "                print(f\"❌ Wrong! Correct answer: {q['answer']}\\n\")\n",
    "\n",
    "        user_answers.append((q[\"question\"], user_input, q[\"answer\"]))\n",
    "\n",
    "    return score, user_answers\n",
    "print(\" Welcome to the Enhanced Quiz Game!\")\n",
    "print(\"Choose a Category:\")\n",
    "categories = list(quiz_data.keys())\n",
    "\n",
    "for i, cat in enumerate(categories, 1):\n",
    "    print(f\"{i}. {cat}\")\n",
    "\n",
    "choice = int(input(\"Enter category number: \"))\n",
    "selected_category = categories[choice - 1]\n",
    "questions = quiz_data[selected_category]\n",
    "score, answer_sheet = run_quiz(questions)\n",
    "print(f\"\\n You completed the quiz on {selected_category}!\")\n",
    "print(f\"Your Score: {score}/{len(questions)}\")\n",
    "print(\"\\n Review:\")\n",
    "for q, user_ans, correct_ans in answer_sheet:\n",
    "    print(f\"Q: {q}\")\n",
    "    print(f\"Your Answer: {user_ans} | Correct: {correct_ans}\")\n",
    "    print(\"✔️ Correct\\n\" if user_ans == correct_ans else \"❌ Incorrect\\n\")\n",
    "\n",
    " \n",
    "\n",
    "\n"
   ]
  },
  {
   "cell_type": "code",
   "execution_count": null,
   "id": "7fc007df-c480-4edf-9544-5cdc67cf308f",
   "metadata": {},
   "outputs": [],
   "source": []
  }
 ],
 "metadata": {
  "kernelspec": {
   "display_name": "Python [conda env:base] *",
   "language": "python",
   "name": "conda-base-py"
  },
  "language_info": {
   "codemirror_mode": {
    "name": "ipython",
    "version": 3
   },
   "file_extension": ".py",
   "mimetype": "text/x-python",
   "name": "python",
   "nbconvert_exporter": "python",
   "pygments_lexer": "ipython3",
   "version": "3.12.7"
  }
 },
 "nbformat": 4,
 "nbformat_minor": 5
}
